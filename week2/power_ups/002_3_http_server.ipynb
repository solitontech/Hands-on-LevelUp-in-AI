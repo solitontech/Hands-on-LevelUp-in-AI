{
 "cells": [
  {
   "cell_type": "markdown",
   "metadata": {},
   "source": [
    "# Python for Learning AI Week 2: HTTP Server\n",
    "\n",
    "Welcome to the companion notebook for our networking module! Here you'll build a simple HTTP server that responds to browser and API client requests. This is the natural next step after the TCP server notebook ([`002_1_tcp_server.ipynb`](./002_1_tcp_server.ipynb)).\n",
    "\n",
    "HTTP servers power web applications, dashboards for machine learning models, and REST APIs that expose AI predictions. By the end of this notebook you'll understand how to map URLs to Python functions and return JSON responses that clients can consume.\n",
    "\n",
    "## What You'll Learn\n",
    "1. The role of HTTP in client-server communication\n",
    "2. How to design straightforward HTTP endpoints\n",
    "3. Building a request handler with `http.server`\n",
    "4. Running and safely shutting down a development HTTP server"
   ]
  },
  {
   "cell_type": "markdown",
   "metadata": {},
   "source": [
    "## Before You Start\n",
    "- Complete the TCP server notebook so the core socket concepts feel familiar.\n",
    "- Ensure you are comfortable with Python functions and string handling.\n",
    "\n",
    "We'll reuse the standard library only, so there is nothing extra to install.\n"
   ]
  },
  {
   "cell_type": "code",
   "execution_count": null,
   "id": "2ee957b3",
   "metadata": {},
   "outputs": [],
   "source": [
    "\n",
    "# Check for required standard library modules\n",
    "try:\n",
    "    import time\n",
    "    import json\n",
    "    from http.server import HTTPServer, BaseHTTPRequestHandler\n",
    "    print(\"✓ Ready to build the HTTP server!\")\n",
    "except ImportError as exc:\n",
    "    print(f\"Missing module: {exc}\")\n",
    "    print(\"All imports should be available in the Python standard library.\")\n",
    "\n"
   ]
  },
  {
   "cell_type": "markdown",
   "id": "702f098a",
   "metadata": {},
   "source": [
    "## Designing a Simple HTTP API\n",
    "We'll create three endpoints that demonstrate common patterns:\n",
    "\n",
    "- `GET /` returns a friendly welcome message.\n",
    "- `GET /time` returns the current server time, showcasing how to serve dynamic data.\n",
    "- `POST /echo` sends back whatever payload the client provided, which is a building block for testing JSON APIs.\n",
    "\n",
    "The handler below routes each request and builds a JSON response.\n"
   ]
  },
  {
   "cell_type": "code",
   "execution_count": null,
   "id": "3585cc77",
   "metadata": {},
   "outputs": [],
   "source": [
    "\n",
    "class SimpleHTTPHandler(BaseHTTPRequestHandler):\n",
    "    \"\"\"Basic handler with GET and POST examples.\"\"\"\n",
    "\n",
    "    def _send_json(self, message, status=200):\n",
    "        self.send_response(status)\n",
    "        self.send_header(\"Content-type\", \"application/json\")\n",
    "        self.end_headers()\n",
    "        payload = json.dumps({\"message\": message}).encode(\"utf-8\")\n",
    "        self.wfile.write(payload)\n",
    "\n",
    "    def do_GET(self):\n",
    "        if self.path == \"/\":\n",
    "            self._send_json(\"Welcome to the simple HTTP server!\")\n",
    "        elif self.path == \"/time\":\n",
    "            current_time = time.strftime(\"%Y-%m-%d %H:%M:%S\")\n",
    "            self._send_json(f\"Current time is: {current_time}\")\n",
    "        else:\n",
    "            self._send_json(\"Not found\", status=404)\n",
    "\n",
    "    def do_POST(self):\n",
    "        if self.path == \"/echo\":\n",
    "            content_length = int(self.headers.get(\"Content-Length\", 0))\n",
    "            body = self.rfile.read(content_length).decode(\"utf-8\")\n",
    "            if not body:\n",
    "                self._send_json(\"No data received\", status=400)\n",
    "            else:\n",
    "                self._send_json(f\"Received: {body}\")\n",
    "        else:\n",
    "            self._send_json(\"Not found\", status=404)\n",
    "\n"
   ]
  },
  {
   "cell_type": "markdown",
   "id": "c2761ffd",
   "metadata": {},
   "source": [
    "## Running the HTTP Server\n",
    "The helper below starts the server on port 8000. Use `Ctrl+C` or stop the Jupyter cell to shut it down. Listening on an empty host string (`''`) allows any interface on your machine to connect—perfect for testing locally.\n"
   ]
  },
  {
   "cell_type": "code",
   "execution_count": null,
   "id": "9d1d1fa3",
   "metadata": {},
   "outputs": [],
   "source": [
    "\n",
    "def run_http_server(port=8000):\n",
    "    server_address = ('', port)\n",
    "    httpd = HTTPServer(server_address, SimpleHTTPHandler)\n",
    "\n",
    "    print(f\"Starting HTTP server on port {port}...\")\n",
    "    print(\"Visit http://localhost:{port}/ in a browser or API client.\")\n",
    "    print(\"Press Ctrl+C to stop the server\")\n",
    "\n",
    "    try:\n",
    "        httpd.serve_forever()\n",
    "    except KeyboardInterrupt:\n",
    "        print(\"Shutting down server...\")\n",
    "    finally:\n",
    "        httpd.server_close()\n",
    "        print(\"Server closed\")\n",
    "\n"
   ]
  },
  {
   "cell_type": "markdown",
   "id": "784fc64e",
   "metadata": {},
   "source": [
    "### Run the Server When You're Ready\n",
    "Uncomment the line below to start the server. Keep the cell running while you experiment from another terminal or browser.\n"
   ]
  },
  {
   "cell_type": "code",
   "execution_count": null,
   "id": "ecca1624",
   "metadata": {},
   "outputs": [],
   "source": [
    "# run_http_server()\n"
   ]
  },
  {
   "cell_type": "markdown",
   "metadata": {},
   "source": [
    "## Testing Your HTTP Server\n",
    "Here are a few quick ways to interact with the server once it's running:\n",
    "\n",
    "1. **Web browser**: Visit `http://localhost:8000/` to see the welcome message.\n",
    "2. **curl (command line)**:\n",
    "   ```bash\n",
    "   curl http://localhost:8000/\n",
    "   curl http://localhost:8000/time\n",
    "   cmd /c \"curl -X POST -d \"\"Hello from curl!\"\" http://localhost:8000/echo\"\n",
    "   ```\n",
    "3. **HTTP client notebook**: Use the new [`002_4_http_client.ipynb`](./002_4_http_client.ipynb) notebook for ready-made Python tests.\n",
    "\n",
    "Understanding how to shape HTTP responses is key to exposing machine learning models, dashboards, and webhooks. Combine these ideas with the TCP foundation to build resilient services."
   ]
  },
  {
   "cell_type": "markdown",
   "metadata": {},
   "source": [
    "## Where to Go Next\n",
    "- Jump to the HTTP client notebook ([`002_4_http_client.ipynb`](./002_4_http_client.ipynb)) to practice sending requests from Python.\n",
    "- Revisit the TCP materials ([`002_1_tcp_server.ipynb`](./002_1_tcp_server.ipynb)) whenever you need a refresher on lower-level networking.\n",
    "- Experiment with new routes (e.g., `/status`) to reinforce the request/response cycle."
   ]
  }
 ],
 "metadata": {
  "kernelspec": {
   "display_name": "SPL-7",
   "language": "python",
   "name": "python3"
  },
  "language_info": {
   "codemirror_mode": {
    "name": "ipython",
    "version": 3
   },
   "file_extension": ".py",
   "mimetype": "text/x-python",
   "name": "python",
   "nbconvert_exporter": "python",
   "pygments_lexer": "ipython3",
   "version": "3.13.7"
  }
 },
 "nbformat": 4,
 "nbformat_minor": 5
}
