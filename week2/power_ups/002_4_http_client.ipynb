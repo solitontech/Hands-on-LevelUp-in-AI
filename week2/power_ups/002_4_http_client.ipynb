{
 "cells": [
  {
   "cell_type": "markdown",
   "metadata": {},
   "source": [
    "# Python for Learning AI Week 2: HTTP Client\n",
    "\n",
    "This notebook picks up where the TCP materials left off. You'll interact with the HTTP server from [`002_3_http_server.ipynb`](./002_3_http_server.ipynb) using Python's popular `requests` library. The goal is to understand how web clients structure requests, interpret responses, and handle errors—skills you need when calling AI APIs.\n",
    "\n",
    "## What You'll Practice\n",
    "1. Verifying that the `requests` package is installed\n",
    "2. Sending HTTP GET requests to retrieve JSON data\n",
    "3. Sending HTTP POST requests to submit data\n",
    "4. Interpreting responses and handling common exceptions"
   ]
  },
  {
   "cell_type": "markdown",
   "metadata": {},
   "source": [
    "## Before You Begin\n",
    "- Make sure the HTTP server notebook is running so you have something to talk to.\n",
    "- Install the `requests` package if you haven't already (`pip install requests`).\n"
   ]
  },
  {
   "cell_type": "code",
   "execution_count": null,
   "metadata": {},
   "outputs": [],
   "source": [
    "\n",
    "# Check that the requests library is available\n",
    "try:\n",
    "    import requests\n",
    "    print(\"✓ requests is available!\")\n",
    "except ImportError:\n",
    "    print(\"requests is not installed. Install it with `pip install requests` from your terminal.\")\n",
    "\n"
   ]
  },
  {
   "cell_type": "markdown",
   "metadata": {},
   "source": [
    "## Helper Functions for HTTP Requests\n",
    "We'll create reusable helpers for GET and POST requests. Each helper prints useful debugging information so you can follow the full request/response flow.\n"
   ]
  },
  {
   "cell_type": "code",
   "execution_count": null,
   "metadata": {},
   "outputs": [],
   "source": [
    "\n",
    "def make_http_get_request(endpoint=\"\", port=8000):\n",
    "    \"\"\"Make a GET request to the local HTTP server.\"\"\"\n",
    "    url = f\"http://localhost:{port}/{endpoint}\".rstrip('/')\n",
    "    print(f\"Making GET request to {url}\")\n",
    "\n",
    "    try:\n",
    "        response = requests.get(url)\n",
    "        response.raise_for_status()\n",
    "        data = response.json()\n",
    "        print(f\"Response: {data}\")\n",
    "        return data\n",
    "    except requests.exceptions.RequestException as exc:\n",
    "        print(f\"GET request failed: {exc}\")\n",
    "        return None\n",
    "\n",
    "def make_http_post_request(endpoint=\"echo\", data=\"Hello from HTTP client!\", port=8000):\n",
    "    \"\"\"Make a POST request to the local HTTP server.\"\"\"\n",
    "    url = f\"http://localhost:{port}/{endpoint}\".rstrip('/')\n",
    "    print(f\"Making POST request to {url} with data: {data}\")\n",
    "\n",
    "    try:\n",
    "        response = requests.post(url, data=data)\n",
    "        response.raise_for_status()\n",
    "        result = response.json()\n",
    "        print(f\"Response: {result}\")\n",
    "        return result\n",
    "    except requests.exceptions.RequestException as exc:\n",
    "        print(f\"POST request failed: {exc}\")\n",
    "        return None\n",
    "\n"
   ]
  },
  {
   "cell_type": "markdown",
   "metadata": {},
   "source": [
    "## Try the HTTP Client\n",
    "Run the cells below to exercise the helper functions. Keep the server notebook active while you experiment.\n"
   ]
  },
  {
   "cell_type": "code",
   "execution_count": null,
   "metadata": {},
   "outputs": [],
   "source": [
    "\n",
    "# Example GET requests\n",
    "make_http_get_request(endpoint=\"\")      # Root endpoint\n",
    "# make_http_get_request(endpoint=\"time\")  # Uncomment to fetch the current time\n",
    "# make_http_get_request(endpoint=\"does-not-exist\")  # Uncomment to trigger a 404 response\n",
    "\n"
   ]
  },
  {
   "cell_type": "markdown",
   "metadata": {},
   "source": [
    "### Send a POST Request\n",
    "The `/echo` endpoint simply returns whatever data you send. Modify the payload and observe how the server responds.\n"
   ]
  },
  {
   "cell_type": "code",
   "execution_count": null,
   "metadata": {},
   "outputs": [],
   "source": [
    "\n",
    "# Example POST request\n",
    "make_http_post_request(endpoint=\"echo\", data=\"This is a POST request from the HTTP client notebook!\")\n",
    "\n"
   ]
  },
  {
   "cell_type": "markdown",
   "metadata": {},
   "source": [
    "## Debugging Tips\n",
    "- If you see connection errors, confirm the HTTP server is running and the port matches.\n",
    "- Use descriptive payloads (e.g., JSON strings) to mirror how AI APIs expect requests.\n",
    "- Wrap calls in `try`/`except` blocks when building production clients so you can retry gracefully.\n"
   ]
  },
  {
   "cell_type": "markdown",
   "metadata": {},
   "source": [
    "## Practice Ideas\n",
    "1. Add query parameters to the GET helper (e.g., `requests.get(url, params={\"name\": \"Ada\"})`).\n",
    "2. Send JSON data in the POST helper using the `json=` argument instead of `data=`.\n",
    "3. Handle slow responses by setting a timeout (`requests.get(url, timeout=5)`).\n",
    "4. Capture the status code and headers to log more detail for debugging.\n",
    "5. Connect to a public API (such as `https://api.github.com`) and inspect the JSON output.\n"
   ]
  },
  {
   "cell_type": "markdown",
   "metadata": {},
   "source": [
    "## Summary\n",
    "You now have both sides of the HTTP conversation: the server ([`002_3_http_server.ipynb`](./002_3_http_server.ipynb)) and the client. These same building blocks let you consume AI services, integrate with webhooks, or expose your own models over the network. Continue experimenting until the request/response cycle feels second nature.\n",
    "\n",
    "For lower-level networking insights, revisit the TCP notebooks:\n",
    "- [`002_1_tcp_server.ipynb`](./002_1_tcp_server.ipynb)\n",
    "- [`002_2_tcp_client.ipynb`](./002_2_tcp_client.ipynb)"
   ]
  }
 ],
 "metadata": {
  "kernelspec": {
   "display_name": "SPL-7",
   "language": "python",
   "name": "python3"
  },
  "language_info": {
   "codemirror_mode": {
    "name": "ipython",
    "version": 3
   },
   "file_extension": ".py",
   "mimetype": "text/x-python",
   "name": "python",
   "nbconvert_exporter": "python",
   "pygments_lexer": "ipython3",
   "version": "3.13.7"
  }
 },
 "nbformat": 4,
 "nbformat_minor": 5
}
